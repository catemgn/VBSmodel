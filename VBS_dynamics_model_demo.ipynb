{
 "cells": [
  {
   "cell_type": "markdown",
   "metadata": {},
   "source": [
    "# Import model"
   ]
  },
  {
   "cell_type": "code",
   "execution_count": 1,
   "metadata": {},
   "outputs": [],
   "source": [
    "from process import process"
   ]
  },
  {
   "cell_type": "markdown",
   "metadata": {},
   "source": [
    "# Compile model"
   ]
  },
  {
   "cell_type": "code",
   "execution_count": 5,
   "metadata": {},
   "outputs": [
    {
     "name": "stdout",
     "output_type": "stream",
     "text": [
      " * Serving Flask app \"C:\\Users\\s1878599\\AppData\\Local\\Temp\\tmp4hv1cfh_\" (lazy loading)\n",
      " * Environment: production\n",
      "   WARNING: Do not use the development server in a production environment.\n",
      "   Use a production WSGI server instead.\n",
      " * Debug mode: off\n"
     ]
    },
    {
     "name": "stderr",
     "output_type": "stream",
     "text": [
      " * Running on http://localhost:50089/ (Press CTRL+C to quit)\n"
     ]
    },
    {
     "data": {
      "text/html": [
       "\n",
       "        <iframe\n",
       "            width=\"100%\"\n",
       "            height=\"500\"\n",
       "            src=\"http://localhost:50089\"\n",
       "            frameborder=\"0\"\n",
       "            allowfullscreen\n",
       "        ></iframe>\n",
       "        "
      ],
      "text/plain": [
       "Site(SiteMap([(Processing Model, SiteMap([(execute VBS Dynamics, SiteMap([(calculate deposition speeds dynamics, SiteMap())]))]))]), host='localhost', port=0, depth=-1, index=False, root_path=None)"
      ]
     },
     "execution_count": 5,
     "metadata": {},
     "output_type": "execute_result"
    },
    {
     "name": "stderr",
     "output_type": "stream",
     "text": [
      "127.0.0.1 - - [29/Jan/2019 13:09:53] \"GET / HTTP/1.1\" 200 -\n",
      "127.0.0.1 - - [29/Jan/2019 13:11:34] \"GET /Processing_Model/execute_VBS_Dynamics.html HTTP/1.1\" 200 -\n",
      "127.0.0.1 - - [29/Jan/2019 13:14:18] \"GET /Processing_Model/execute_VBS_Dynamics/calculate_deposition_speeds_dynamics/particle_diameters_ds_p-output.html HTTP/1.1\" 200 -\n",
      "127.0.0.1 - - [29/Jan/2019 13:14:22] \"GET /Processing_Model/execute_VBS_Dynamics/calculate_deposition_speeds_dynamics/diffusion_constant-output.html HTTP/1.1\" 200 -\n"
     ]
    }
   ],
   "source": [
    "dsp= process.register()\n",
    "dsp.plot(view=True).site(index=False)"
   ]
  },
  {
   "cell_type": "markdown",
   "metadata": {},
   "source": [
    "# Define input and outputs variables"
   ]
  },
  {
   "cell_type": "code",
   "execution_count": 3,
   "metadata": {},
   "outputs": [],
   "source": [
    "from files.key_mapping import key_mapping\n",
    "input_fpath = 'files/VBSsetup.json'\n",
    "output_fpath = 'files/VBSoutputs.json'"
   ]
  },
  {
   "cell_type": "markdown",
   "metadata": {},
   "source": [
    "# Execute model"
   ]
  },
  {
   "cell_type": "code",
   "execution_count": 4,
   "metadata": {},
   "outputs": [
    {
     "name": "stdout",
     "output_type": "stream",
     "text": [
      "<class 'int'>\n",
      " * Serving Flask app \"C:\\Users\\s1878599\\AppData\\Local\\Temp\\tmpv8n70v41\" (lazy loading)\n",
      " * Environment: production\n",
      "   WARNING: Do not use the development server in a production environment.\n",
      "   Use a production WSGI server instead.\n",
      " * Debug mode: off\n"
     ]
    },
    {
     "name": "stderr",
     "output_type": "stream",
     "text": [
      " * Running on http://localhost:59112/ (Press CTRL+C to quit)\n"
     ]
    },
    {
     "data": {
      "text/html": [
       "\n",
       "        <iframe\n",
       "            width=\"100%\"\n",
       "            height=\"500\"\n",
       "            src=\"http://localhost:59112\"\n",
       "            frameborder=\"0\"\n",
       "            allowfullscreen\n",
       "        ></iframe>\n",
       "        "
      ],
      "text/plain": [
       "Site(SiteMap([(Processing Model, SiteMap([(execute VBS Dynamics, SiteMap([(calculate deposition speeds dynamics, SiteMap())]))]))]), host='localhost', port=0, depth=-1, index=False, root_path=None)"
      ]
     },
     "execution_count": 4,
     "metadata": {},
     "output_type": "execute_result"
    },
    {
     "name": "stderr",
     "output_type": "stream",
     "text": [
      "127.0.0.1 - - [29/Jan/2019 12:12:14] \"GET / HTTP/1.1\" 200 -\n",
      "127.0.0.1 - - [29/Jan/2019 12:12:23] \"GET /Processing_Model/execute_VBS_Dynamics.html HTTP/1.1\" 200 -\n",
      "127.0.0.1 - - [29/Jan/2019 12:12:45] \"GET /Processing_Model/execute_VBS_Dynamics/calculate_deposition_speeds_dynamics.html HTTP/1.1\" 200 -\n",
      "127.0.0.1 - - [29/Jan/2019 12:12:47] \"GET /Processing_Model/execute_VBS_Dynamics/calculate_deposition_speeds_dynamics/calculate_kelvin_term.html HTTP/1.1\" 200 -\n",
      "127.0.0.1 - - [29/Jan/2019 12:12:52] \"GET /Processing_Model/execute_VBS_Dynamics/calculate_deposition_speeds_dynamics/particle_volume-output.html HTTP/1.1\" 200 -\n",
      "127.0.0.1 - - [29/Jan/2019 12:12:56] \"GET /Processing_Model/execute_VBS_Dynamics/calculate_deposition_speeds_dynamics/mean_molecular_speed-output.html HTTP/1.1\" 200 -\n",
      "127.0.0.1 - - [29/Jan/2019 12:12:59] \"GET /Processing_Model/execute_VBS_Dynamics/calculate_deposition_speeds_dynamics/continuum_deposition_speed-output.html HTTP/1.1\" 200 -\n",
      "127.0.0.1 - - [29/Jan/2019 12:17:04] \"GET /Processing_Model/execute_VBS_Dynamics/calculate_deposition_speeds_dynamics/calculate_full_deposition_speed.html HTTP/1.1\" 200 -\n"
     ]
    }
   ],
   "source": [
    "sol = dsp(dict(key_mapping=key_mapping, input_fpath=input_fpath, output_fpath=output_fpath))\n",
    "sol.plot(view=False).site(index=False)"
   ]
  },
  {
   "cell_type": "code",
   "execution_count": null,
   "metadata": {},
   "outputs": [],
   "source": []
  }
 ],
 "metadata": {
  "kernelspec": {
   "display_name": "Python 3",
   "language": "python",
   "name": "python3"
  },
  "language_info": {
   "codemirror_mode": {
    "name": "ipython",
    "version": 3
   },
   "file_extension": ".py",
   "mimetype": "text/x-python",
   "name": "python",
   "nbconvert_exporter": "python",
   "pygments_lexer": "ipython3",
   "version": "3.6.5"
  }
 },
 "nbformat": 4,
 "nbformat_minor": 2
}
